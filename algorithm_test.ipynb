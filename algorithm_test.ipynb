{
 "cells": [
  {
   "cell_type": "code",
   "execution_count": 19,
   "id": "f42af9da-0f98-4f26-b811-c7df6166f6e2",
   "metadata": {},
   "outputs": [],
   "source": [
    "# !python3.12 -m pip install osqp==1.0.0b1"
   ]
  },
  {
   "cell_type": "code",
   "execution_count": 20,
   "id": "bbcd971f-768c-4b31-ba0b-20e7c21bac95",
   "metadata": {},
   "outputs": [
    {
     "name": "stdout",
     "output_type": "stream",
     "text": [
      "aiofiles==23.2.1\n",
      "annotated-types==0.6.0\n",
      "anyio==4.3.0\n",
      "argon2-cffi==23.1.0\n",
      "argon2-cffi-bindings==21.2.0\n",
      "arrow==1.3.0\n",
      "asttokens==2.4.1\n",
      "async-lru==2.0.4\n",
      "attrs==23.2.0\n",
      "Babel==2.15.0\n",
      "bash_kernel==0.9.3\n",
      "beautifulsoup4==4.12.3\n",
      "bleach==6.1.0\n",
      "certifi==2024.2.2\n",
      "cffi==1.16.0\n",
      "charset-normalizer==3.3.2\n",
      "clarabel==0.7.1\n",
      "click==8.1.7\n",
      "comm==0.2.2\n",
      "cvxpy==1.5.1\n",
      "debugpy==1.8.1\n",
      "decorator==5.1.1\n",
      "defusedxml==0.7.1\n",
      "ecos==2.0.13\n",
      "executing==2.0.1\n",
      "fastapi==0.110.0\n",
      "fastjsonschema==2.19.1\n",
      "fqdn==1.5.1\n",
      "h11==0.14.0\n",
      "httpcore==1.0.5\n",
      "httptools==0.6.1\n",
      "httpx==0.27.0\n",
      "idna==3.6\n",
      "ipykernel==6.29.4\n",
      "ipython==8.24.0\n",
      "ipywidgets==8.1.2\n",
      "isoduration==20.11.0\n",
      "jedi==0.19.1\n",
      "Jinja2==3.1.4\n",
      "json5==0.9.25\n",
      "jsonpointer==2.4\n",
      "jsonschema==4.22.0\n",
      "jsonschema-specifications==2023.12.1\n",
      "jupyter==1.0.0\n",
      "jupyter-console==6.6.3\n",
      "jupyter-events==0.10.0\n",
      "jupyter-lsp==2.2.5\n",
      "jupyter_client==8.6.1\n",
      "jupyter_core==5.7.2\n",
      "jupyter_server==2.14.0\n",
      "jupyter_server_terminals==0.5.3\n",
      "jupyterlab==4.1.8\n",
      "jupyterlab_pygments==0.3.0\n",
      "jupyterlab_server==2.27.1\n",
      "jupyterlab_widgets==3.0.10\n",
      "MarkupSafe==2.1.5\n",
      "matplotlib-inline==0.1.7\n",
      "mistune==3.0.2\n",
      "nbclient==0.10.0\n",
      "nbconvert==7.16.4\n",
      "nbformat==5.10.4\n",
      "nest-asyncio==1.6.0\n",
      "notebook==7.1.3\n",
      "notebook_shim==0.2.4\n",
      "numpy==1.26.4\n",
      "osqp==1.0.0b1\n",
      "overrides==7.7.0\n",
      "packaging==24.0\n",
      "pandocfilters==1.5.1\n",
      "parso==0.8.4\n",
      "pexpect==4.9.0\n",
      "platformdirs==4.2.1\n",
      "prometheus_client==0.20.0\n",
      "prompt-toolkit==3.0.43\n",
      "psutil==5.9.8\n",
      "ptyprocess==0.7.0\n",
      "pure-eval==0.2.2\n",
      "pycparser==2.22\n",
      "pydantic==2.6.3\n",
      "pydantic_core==2.16.3\n",
      "Pygments==2.18.0\n",
      "python-dateutil==2.9.0.post0\n",
      "python-dotenv==1.0.1\n",
      "python-json-logger==2.0.7\n",
      "python-multipart==0.0.9\n",
      "PyYAML==6.0.1\n",
      "pyzmq==26.0.3\n",
      "qdldl==0.1.7.post2\n",
      "qtconsole==5.5.2\n",
      "QtPy==2.4.1\n",
      "referencing==0.35.1\n",
      "requests==2.31.0\n",
      "rfc3339-validator==0.1.4\n",
      "rfc3986-validator==0.1.1\n",
      "router==0.1\n",
      "rpds-py==0.18.1\n",
      "scipy==1.13.0\n",
      "scs==3.2.4.post1\n",
      "Send2Trash==1.8.3\n",
      "six==1.16.0\n",
      "sniffio==1.3.1\n",
      "soupsieve==2.5\n",
      "stack-data==0.6.3\n",
      "starlette==0.36.3\n",
      "terminado==0.18.1\n",
      "tinycss2==1.3.0\n",
      "tornado==6.4\n",
      "tqdm==4.66.4\n",
      "traitlets==5.14.3\n",
      "types-python-dateutil==2.9.0.20240316\n",
      "typing_extensions==4.10.0\n",
      "uri-template==1.3.0\n",
      "urllib3==2.2.1\n",
      "uvicorn==0.27.1\n",
      "uvloop==0.19.0\n",
      "watchfiles==0.21.0\n",
      "wcwidth==0.2.13\n",
      "webcolors==1.13\n",
      "webencodings==0.5.1\n",
      "websocket-client==1.8.0\n",
      "websockets==12.0\n",
      "widgetsnbextension==4.0.10\n",
      "Note: you may need to restart the kernel to use updated packages.\n"
     ]
    }
   ],
   "source": [
    "pip freeze"
   ]
  },
  {
   "cell_type": "code",
   "execution_count": 22,
   "id": "2bba647c-7005-45db-8994-c6fa576943da",
   "metadata": {
    "executionInfo": {
     "elapsed": 3,
     "status": "ok",
     "timestamp": 1713619834973,
     "user": {
      "displayName": "Władysław Nieć",
      "userId": "03717634976885468976"
     },
     "user_tz": -120
    },
    "id": "2bba647c-7005-45db-8994-c6fa576943da"
   },
   "outputs": [
    {
     "ename": "ImportError",
     "evalue": "cannot import name 'stirling2' from 'scipy.special' (/home/wladek/.local/lib/python3.12/site-packages/scipy/special/__init__.py)",
     "output_type": "error",
     "traceback": [
      "\u001b[0;31m---------------------------------------------------------------------------\u001b[0m",
      "\u001b[0;31mImportError\u001b[0m                               Traceback (most recent call last)",
      "Cell \u001b[0;32mIn[22], line 1\u001b[0m\n\u001b[0;32m----> 1\u001b[0m \u001b[38;5;28;01mfrom\u001b[39;00m \u001b[38;5;21;01mscipy\u001b[39;00m\u001b[38;5;21;01m.\u001b[39;00m\u001b[38;5;21;01mspecial\u001b[39;00m \u001b[38;5;28;01mimport\u001b[39;00m stirling2\n\u001b[1;32m      2\u001b[0m \u001b[38;5;28;01mimport\u001b[39;00m \u001b[38;5;21;01mbf\u001b[39;00m\n\u001b[1;32m      3\u001b[0m \u001b[38;5;28;01mimport\u001b[39;00m \u001b[38;5;21;01mscipy\u001b[39;00m\n",
      "\u001b[0;31mImportError\u001b[0m: cannot import name 'stirling2' from 'scipy.special' (/home/wladek/.local/lib/python3.12/site-packages/scipy/special/__init__.py)"
     ]
    }
   ],
   "source": [
    "from scipy.special import stirling2\n",
    "import bf\n",
    "import scipy\n",
    "import numpy as np\n",
    "from scipy.sparse import csr_matrix\n",
    "from scipy.sparse import coo_matrix\n",
    "import sys\n",
    "import os\n",
    "from copy import deepcopy\n",
    "import matplotlib.pyplot as plt\n",
    "\n",
    "np.set_printoptions(threshold=sys.maxsize)"
   ]
  },
  {
   "cell_type": "markdown",
   "id": "b56fd481-1197-431e-9e66-6c74aacdc232",
   "metadata": {
    "id": "b56fd481-1197-431e-9e66-6c74aacdc232"
   },
   "source": [
    "# W zmiennych positive i negative będziemy przechowywać rozwiązania spełniające i niespełniające warunków problemu."
   ]
  },
  {
   "cell_type": "code",
   "execution_count": null,
   "id": "bb3f806f-728f-4677-b75f-bf1b1949c116",
   "metadata": {
    "executionInfo": {
     "elapsed": 4,
     "status": "ok",
     "timestamp": 1713621188977,
     "user": {
      "displayName": "Władysław Nieć",
      "userId": "03717634976885468976"
     },
     "user_tz": -120
    },
    "id": "bb3f806f-728f-4677-b75f-bf1b1949c116"
   },
   "outputs": [],
   "source": [
    "positive, negative = [], []"
   ]
  },
  {
   "cell_type": "markdown",
   "id": "da3df3a7-16e0-4960-9fb2-a45c1ee48428",
   "metadata": {
    "id": "da3df3a7-16e0-4960-9fb2-a45c1ee48428"
   },
   "source": [
    "# Funkcja gen_solution generuje rozwiązanie spełniające 2 warunki:\n",
    "# $\\forall i = 1, .., N_{M} : \\sum \\limits _{j=1} ^{N_{T}} x_{ij} \\le 1$\n",
    "# $\\forall i = 1, .., N_{T} : \\sum \\limits _{i=1} ^{N_{M}} x_{ij} \\ge 1$"
   ]
  },
  {
   "cell_type": "code",
   "execution_count": null,
   "id": "6d378191-8b2c-4327-b3df-6afc3854608e",
   "metadata": {
    "executionInfo": {
     "elapsed": 241,
     "status": "ok",
     "timestamp": 1713621192297,
     "user": {
      "displayName": "Władysław Nieć",
      "userId": "03717634976885468976"
     },
     "user_tz": -120
    },
    "id": "6d378191-8b2c-4327-b3df-6afc3854608e"
   },
   "outputs": [],
   "source": [
    "def gen_solution(T: int, M: int, TEST: int):\n",
    "    mach = np.random.choice(list(range(M)), size=TEST, replace=False)\n",
    "    tasks = np.hstack(\n",
    "        (\n",
    "            np.random.RandomState().permutation(T),\n",
    "            np.random.choice(list(range(T)), size=TEST - T, replace=True),\n",
    "        )\n",
    "    )\n",
    "    return mach, tasks"
   ]
  },
  {
   "cell_type": "code",
   "execution_count": null,
   "id": "093ea171-1a3e-4f3d-8ad0-1b3a1402f39b",
   "metadata": {
    "colab": {
     "base_uri": "https://localhost:8080/"
    },
    "executionInfo": {
     "elapsed": 312,
     "status": "ok",
     "timestamp": 1713621194855,
     "user": {
      "displayName": "Władysław Nieć",
      "userId": "03717634976885468976"
     },
     "user_tz": -120
    },
    "id": "093ea171-1a3e-4f3d-8ad0-1b3a1402f39b",
    "outputId": "6fa22d4c-e2f9-4793-98ad-081349ab63fc"
   },
   "outputs": [],
   "source": [
    "NT = 10\n",
    "NM = 50\n",
    "\n",
    "E = np.random.random(NT)\n",
    "D = np.random.random(NT)\n",
    "eta = np.random.random((NT, NM))\n",
    "rows, cols = gen_solution(NT, NM, NM)\n",
    "X = coo_matrix((np.ones(NM), (cols, rows)), shape=(NT, NM)).todense()\n",
    "P = np.random.random(NM)\n",
    "print(X.shape)\n",
    "print(E.shape)\n",
    "print(D.shape)\n",
    "print(eta.shape)\n",
    "print(P.shape)"
   ]
  },
  {
   "cell_type": "markdown",
   "id": "7f563ad7-1a24-4ebf-a6a8-cbfd3d16399e",
   "metadata": {
    "id": "7f563ad7-1a24-4ebf-a6a8-cbfd3d16399e"
   },
   "source": [
    "# Funkcja check_X sprawdza rozwiązanie pod kątem dwóch warunków rozwiązania generowanego przez gen_solution oraz dodatkowo sprawdza trzeci warunek:\n",
    "# $\\forall j = 1, ..., N_{T} : t_{j} = \\frac{e_{j}}{\\sum \\limits _{i=1} ^{N_{M}} n_{ij}x_{ij}} \\leq d_{ij}$"
   ]
  },
  {
   "cell_type": "code",
   "execution_count": null,
   "id": "2d9497f6-9dd6-45c0-84e3-fa86b62ec6b0",
   "metadata": {
    "executionInfo": {
     "elapsed": 253,
     "status": "ok",
     "timestamp": 1713621197939,
     "user": {
      "displayName": "Władysław Nieć",
      "userId": "03717634976885468976"
     },
     "user_tz": -120
    },
    "id": "2d9497f6-9dd6-45c0-84e3-fa86b62ec6b0"
   },
   "outputs": [],
   "source": [
    "def check_X(X, E, D, eta, P):\n",
    "    assert np.all(np.sum(X, axis=0) <= 1)\n",
    "    assert np.all(np.sum(X, axis=1) >= 1)\n",
    "    if np.sum((E / np.sum(np.multiply(eta, X), axis=1) - D) > 0) == 0:\n",
    "        print(\"test positive\")\n",
    "        positive.append([X, E, D, eta, P])\n",
    "    else:\n",
    "        negative.append([X, E, D, eta, P])"
   ]
  },
  {
   "cell_type": "code",
   "execution_count": null,
   "id": "d6067323-4b17-47c2-8cb8-8a19f6251297",
   "metadata": {
    "executionInfo": {
     "elapsed": 219,
     "status": "ok",
     "timestamp": 1713621199427,
     "user": {
      "displayName": "Władysław Nieć",
      "userId": "03717634976885468976"
     },
     "user_tz": -120
    },
    "id": "d6067323-4b17-47c2-8cb8-8a19f6251297"
   },
   "outputs": [],
   "source": [
    "def test_X(X, E, D, eta, P):\n",
    "    if np.all(np.sum(X, axis=0) <= 1) and np.all(np.sum(X, axis=1) >= 1):\n",
    "        return np.sum((E / np.sum(np.multiply(eta, X), axis=1) - D) > 0) == 0\n",
    "    return False"
   ]
  },
  {
   "cell_type": "markdown",
   "id": "ae9fb083-c846-417d-8f92-75c822d18306",
   "metadata": {
    "id": "ae9fb083-c846-417d-8f92-75c822d18306"
   },
   "source": [
    "# Możemy zauważyć, że macierz rozwiązań $X$ jest macierzą rzadką, dlatego potencjalnie może opłacać się przechowywanie jako macierzy (listy) koordynatów"
   ]
  },
  {
   "cell_type": "code",
   "execution_count": null,
   "id": "99f84755-6cab-4b7f-8f91-70f0a32049fe",
   "metadata": {
    "executionInfo": {
     "elapsed": 220,
     "status": "ok",
     "timestamp": 1713621201149,
     "user": {
      "displayName": "Władysław Nieć",
      "userId": "03717634976885468976"
     },
     "user_tz": -120
    },
    "id": "99f84755-6cab-4b7f-8f91-70f0a32049fe"
   },
   "outputs": [],
   "source": [
    "def get_data(NT: int, NM: int, verbose: bool = False):\n",
    "    E = np.random.random(NT)\n",
    "    D = np.random.random(NT)\n",
    "    eta = np.random.random((NT, NM))\n",
    "    P = np.random.random(NM)\n",
    "    rows, cols = gen_solution(NT, NM, NM)\n",
    "    X = coo_matrix((np.ones(NM), (cols, rows)), shape=(NT, NM)).todense()\n",
    "    if verbose:\n",
    "        print(X.shape)\n",
    "        print(E.shape)\n",
    "        print(D.shape)\n",
    "        print(eta.shape)\n",
    "        print(P.shape)\n",
    "    return X, E, D, eta, P"
   ]
  },
  {
   "cell_type": "code",
   "execution_count": null,
   "id": "a34f7771-e717-4581-8c1a-58931c68bbd4",
   "metadata": {
    "colab": {
     "base_uri": "https://localhost:8080/"
    },
    "executionInfo": {
     "elapsed": 367,
     "status": "ok",
     "timestamp": 1713621203465,
     "user": {
      "displayName": "Władysław Nieć",
      "userId": "03717634976885468976"
     },
     "user_tz": -120
    },
    "id": "a34f7771-e717-4581-8c1a-58931c68bbd4",
    "outputId": "1b95c99b-2c30-4e70-a943-67011561c8b7"
   },
   "outputs": [],
   "source": [
    "check_X(*get_data(10, 50, verbose=True))"
   ]
  },
  {
   "cell_type": "code",
   "execution_count": null,
   "id": "fcf2ea36-2262-4c99-9764-c51d86d7ebf0",
   "metadata": {
    "colab": {
     "base_uri": "https://localhost:8080/"
    },
    "executionInfo": {
     "elapsed": 4222,
     "status": "ok",
     "timestamp": 1713621210959,
     "user": {
      "displayName": "Władysław Nieć",
      "userId": "03717634976885468976"
     },
     "user_tz": -120
    },
    "id": "fcf2ea36-2262-4c99-9764-c51d86d7ebf0",
    "outputId": "f4a9d54b-174a-4d8d-8fb5-b221cfbd8950"
   },
   "outputs": [],
   "source": [
    "while len(positive) < 10:\n",
    "    check_X(*get_data(10, 50))"
   ]
  },
  {
   "cell_type": "code",
   "execution_count": null,
   "id": "004f05b1-513d-4176-8d7c-cbaa1fd33a8a",
   "metadata": {
    "executionInfo": {
     "elapsed": 233,
     "status": "ok",
     "timestamp": 1713621213207,
     "user": {
      "displayName": "Władysław Nieć",
      "userId": "03717634976885468976"
     },
     "user_tz": -120
    },
    "id": "004f05b1-513d-4176-8d7c-cbaa1fd33a8a"
   },
   "outputs": [],
   "source": [
    "def save_list(listname):\n",
    "    list = eval(listname)\n",
    "    for i, example in enumerate(list[:10]):\n",
    "        object_list = np.empty(5, object)\n",
    "        object_list[:] = list[i]\n",
    "        np.save(os.path.join(listname, f\"test{i}.npy\"), object_list)"
   ]
  },
  {
   "cell_type": "code",
   "execution_count": null,
   "id": "16ea77b3-a8fe-4c23-9ec3-355e6d51f52c",
   "metadata": {
    "colab": {
     "base_uri": "https://localhost:8080/",
     "height": 304
    },
    "executionInfo": {
     "elapsed": 421,
     "status": "error",
     "timestamp": 1713621215951,
     "user": {
      "displayName": "Władysław Nieć",
      "userId": "03717634976885468976"
     },
     "user_tz": -120
    },
    "id": "16ea77b3-a8fe-4c23-9ec3-355e6d51f52c",
    "outputId": "213a479c-38e1-4522-97ad-02b8c8f3ed06"
   },
   "outputs": [],
   "source": [
    "save_list(\"positive\")\n",
    "save_list(\"negative\")"
   ]
  },
  {
   "cell_type": "markdown",
   "id": "71d46145-6791-4c18-af50-b5eb2a494dad",
   "metadata": {
    "id": "71d46145-6791-4c18-af50-b5eb2a494dad"
   },
   "source": [
    "# Wizualizacja rozwiązań"
   ]
  },
  {
   "cell_type": "code",
   "execution_count": null,
   "id": "a4d060a1-34c8-443c-8145-ac10864bbfc1",
   "metadata": {
    "id": "a4d060a1-34c8-443c-8145-ac10864bbfc1"
   },
   "outputs": [],
   "source": [
    "def show_example(example):\n",
    "    plt.title(\"machines chosen for tasks\")\n",
    "    plt.xlabel(\"machine\")\n",
    "    plt.ylabel(\"tasks\")\n",
    "    plt.imshow(example[0])\n",
    "    plt.colorbar()\n",
    "    plt.show()\n",
    "    plt.title(\"tasks effort\")\n",
    "    plt.xlabel(\"task\")\n",
    "    plt.ylabel(\"effort\")\n",
    "    plt.bar(range(len(example[1])), example[1])\n",
    "    plt.show()\n",
    "    plt.title(\"tasks deadline length\")\n",
    "    plt.xlabel(\"task\")\n",
    "    plt.ylabel(\"deadline\")\n",
    "    plt.bar(range(len(example[2])), example[2])\n",
    "    plt.show()\n",
    "    plt.title(\"effectivity of machines doing given task\")\n",
    "    plt.xlabel(\"machine\")\n",
    "    plt.ylabel(\"tasks\")\n",
    "    plt.imshow(example[3])\n",
    "    plt.colorbar()\n",
    "    plt.show()\n",
    "    plt.title(\"cost of work of given machine\")\n",
    "    plt.xlabel(\"machine\")\n",
    "    plt.ylabel(\"cost of work\")\n",
    "    plt.bar(range(len(example[4])), example[4])\n",
    "    plt.show()"
   ]
  },
  {
   "cell_type": "code",
   "execution_count": null,
   "id": "d8782f2e-5382-4cbe-81e6-20864b37d7b0",
   "metadata": {
    "id": "d8782f2e-5382-4cbe-81e6-20864b37d7b0"
   },
   "outputs": [],
   "source": [
    "b = np.load(\"positive//test0.npy\", allow_pickle=True)"
   ]
  },
  {
   "cell_type": "code",
   "execution_count": null,
   "id": "5981ba34-e910-41e8-8038-125be9711929",
   "metadata": {
    "id": "5981ba34-e910-41e8-8038-125be9711929",
    "outputId": "d34d353c-e644-4f9b-a146-c236695ecfaf"
   },
   "outputs": [],
   "source": [
    "show_example(b)"
   ]
  },
  {
   "cell_type": "code",
   "execution_count": null,
   "id": "40b82bed-d016-4e2d-ac59-f0d992a2091b",
   "metadata": {
    "id": "40b82bed-d016-4e2d-ac59-f0d992a2091b"
   },
   "outputs": [],
   "source": [
    "def alter(A, v_swaps: int, h_swaps: int, turn_off: int, turn_on: int):\n",
    "    \"\"\"\n",
    "    h_swaps: number of horizontal swaps\n",
    "    v_swaps: number of vertical swaps\n",
    "    turn_off: number of machines to turn off for a random task\n",
    "    turn on: number of machines to turn on for a random task\n",
    "    \"\"\"\n",
    "    X = deepcopy(A)\n",
    "    columns_to_swap = zip(\n",
    "        np.random.randint(0, X.shape[1], v_swaps),\n",
    "        np.random.randint(0, X.shape[1], v_swaps),\n",
    "    )\n",
    "    rows_to_swap = zip(\n",
    "        np.random.randint(0, X.shape[0], h_swaps),\n",
    "        np.random.randint(0, X.shape[0], h_swaps),\n",
    "    )\n",
    "    for c1, c2 in columns_to_swap:\n",
    "        tmp = deepcopy(X[:, c1])\n",
    "        X[:, c1] = X[:, c2]\n",
    "        X[:, c2] = tmp\n",
    "    for r1, r2 in rows_to_swap:\n",
    "        tmp = deepcopy(X[r1, :])\n",
    "        X[r1, :] = X[r2, :]\n",
    "        X[r2, :] = tmp\n",
    "    pairs = list(zip(*np.where(X)))\n",
    "    chosen = np.random.choice(len(pairs), size=turn_off)\n",
    "    for ind in chosen:\n",
    "        X[pairs[ind]] = 0\n",
    "    return X\n",
    "    pairs = list(zip(*np.where(X == 0)))\n",
    "    chosen = np.random.choice(len(pairs), size=turn_on)\n",
    "    for ind in chosen:\n",
    "        X[pairs[ind]] = 0\n",
    "    return X"
   ]
  },
  {
   "cell_type": "code",
   "execution_count": null,
   "id": "f1d2481c-585e-4182-a605-568947fdd517",
   "metadata": {
    "id": "f1d2481c-585e-4182-a605-568947fdd517",
    "outputId": "3c048385-6de0-474d-ee49-3c6bf8b00384"
   },
   "outputs": [],
   "source": [
    "rows, cols = gen_solution(NT, NM, NM)\n",
    "d = coo_matrix((np.ones(NM), (cols, rows)), shape=(NT, NM)).todense()\n",
    "plt.imshow(d, vmin=0, vmax=1)\n",
    "plt.show()\n",
    "new_d = alter(d, 5, 3, 2, 2)\n",
    "plt.imshow(new_d, vmin=0, vmax=1)\n",
    "plt.show()\n",
    "plt.imshow(new_d - d)\n",
    "plt.show()"
   ]
  },
  {
   "cell_type": "code",
   "execution_count": null,
   "id": "4af6c2ce-b262-409d-837e-a18289b29a17",
   "metadata": {
    "id": "4af6c2ce-b262-409d-837e-a18289b29a17"
   },
   "outputs": [],
   "source": [
    "def cost(X, E, D, eta, P, base_only=False):\n",
    "    cond_1 = np.sum(np.sum(X, axis=0) > 1) ** 2\n",
    "    cond_2 = np.sum(np.sum(X, axis=1) < 1) ** 2\n",
    "    cond_3 = E / (np.sum(np.multiply(eta, X), axis=1) + 1e-8) - D  # deadlines not met\n",
    "    cond_3_sum = np.sum(np.where(cond_3 > 0, 100 * cond_3, 0.1 * cond_3))\n",
    "    base_cost = np.sum(\n",
    "        np.multiply(E, np.sum(np.multiply(P, X), axis=1))\n",
    "        / (np.sum(np.multiply(eta, X), axis=1) + 1e-8)\n",
    "    )\n",
    "    if base_only:\n",
    "        return base_cost\n",
    "    proper = 4 if (cond_1 or cond_2 or np.any(cond_3 > 0)) else 1\n",
    "    return (base_cost + cond_3_sum + cond_2 + cond_1) * proper"
   ]
  },
  {
   "cell_type": "code",
   "execution_count": null,
   "id": "025f8fe8-570f-4aee-893c-337f9b6bbac3",
   "metadata": {
    "id": "025f8fe8-570f-4aee-893c-337f9b6bbac3",
    "outputId": "8aa9a633-92f9-4ca6-c8ed-1aae1f36c0be"
   },
   "outputs": [],
   "source": [
    "cost(X, E, D, eta, P, True)"
   ]
  },
  {
   "cell_type": "code",
   "execution_count": null,
   "id": "d5ce372a-997d-4f52-bd99-c62293f7894b",
   "metadata": {
    "id": "d5ce372a-997d-4f52-bd99-c62293f7894b",
    "outputId": "85e8a8bf-67ce-4012-961a-1017f1b6adda"
   },
   "outputs": [],
   "source": [
    "distribution = [cost(*get_data(5, 10), base_only=True) for i in range(10000)]\n",
    "plt.hist(distribution, range=(0, 100), density=True, bins=60)\n",
    "plt.title(\"Base cost distribution\")\n",
    "plt.show()"
   ]
  },
  {
   "cell_type": "code",
   "execution_count": null,
   "id": "1e1689de-6175-401b-b502-d2543651d280",
   "metadata": {
    "id": "1e1689de-6175-401b-b502-d2543651d280",
    "outputId": "91c04c7d-fb6e-4672-ba53-d97641cd5730"
   },
   "outputs": [],
   "source": [
    "distribution = [cost(*get_data(10, 50)) for i in range(10000)]\n",
    "plt.hist(distribution, range=(0, 1e4), density=True, bins=60)\n",
    "plt.title(\"Distribution of cost with rules violation penalty\")\n",
    "plt.show()"
   ]
  },
  {
   "cell_type": "code",
   "execution_count": null,
   "id": "8650df14-cc24-4d37-b95f-a8ab6d6ae10b",
   "metadata": {
    "id": "8650df14-cc24-4d37-b95f-a8ab6d6ae10b"
   },
   "outputs": [],
   "source": [
    "_, E, D, eta, P = get_data(NT, NM)"
   ]
  },
  {
   "cell_type": "code",
   "execution_count": null,
   "id": "b79045cf-b2ce-4145-aa6f-64d5cb3c648c",
   "metadata": {},
   "outputs": [],
   "source": [
    "def get_cheapest_problem(NT: int, NM: int):\n",
    "    \"\"\"\n",
    "    NT - liczba zadań\n",
    "    NM - liczba maszyn\n",
    "    \"\"\"\n",
    "    problems = []\n",
    "    for i in range(10000):\n",
    "        problems.append(get_data(NT, NM))\n",
    "    return min(problems, key=lambda v: cost(*v))"
   ]
  },
  {
   "cell_type": "code",
   "execution_count": null,
   "id": "af8b4ca2-fef1-4494-b6d3-9529e0d5f25d",
   "metadata": {
    "id": "af8b4ca2-fef1-4494-b6d3-9529e0d5f25d"
   },
   "outputs": [],
   "source": [
    "def get_random_solutions(\n",
    "    NT: int,\n",
    "    NM: int,\n",
    "    n_solutions: int,\n",
    "    proper: bool,\n",
    "    E: np.ndarray,\n",
    "    D: np.ndarray,\n",
    "    eta: np.ndarray,\n",
    "    P: np.ndarray,\n",
    "):\n",
    "    \"\"\"\n",
    "    NT - liczba zadań\n",
    "    NM - liczba maszyn\n",
    "    n_solutions - liczba żądanych rozwiązań\n",
    "    proper - czy wszystkie zwracane rozwiązania powinny być poprawne\n",
    "    E, D, eta, P - warunki zadania\n",
    "    \"\"\"\n",
    "    solutions = []\n",
    "    while len(solutions) < n_solutions:\n",
    "        rows, cols = gen_solution(NT, NM, NM)\n",
    "        X = coo_matrix((np.ones(NM), (cols, rows)), shape=(NT, NM)).todense()\n",
    "        if (not proper) or test_X(X, E, D, eta, P):\n",
    "            solutions.append(X)\n",
    "    return solutions"
   ]
  },
  {
   "cell_type": "code",
   "execution_count": null,
   "id": "1b0a75c7-1a3e-4375-bda3-c345756284cf",
   "metadata": {
    "id": "1b0a75c7-1a3e-4375-bda3-c345756284cf"
   },
   "outputs": [],
   "source": [
    "def bee_algorithm_iteration(\n",
    "    solutions: list,\n",
    "    top_n: int,\n",
    "    top_attempts: int,\n",
    "    rest_attempts: int,\n",
    "    max_solutions: int,\n",
    "    params: dict,\n",
    "):\n",
    "    \"\"\"\n",
    "    solutions - rozwiązania wejściowe\n",
    "    top_n - liczba rozwiązań najlepszych - traktowanych priorytetowo\n",
    "    top_attempts - liczba pszczół dla najlepszych rozwiązań\n",
    "    rest_attempts - liczba pszczół dla pozostałych rozwiązań\n",
    "    max_solutions - maksymalna liczba rozwiązań\n",
    "    params - słownik parametrów określających sposób generowania permutacji rozwiązań\n",
    "    \"\"\"\n",
    "    new_solutions = []\n",
    "    for i, solution in enumerate(solutions):\n",
    "        n_tries = top_attempts if i < top_n else rest_attempts\n",
    "        for j in range(n_tries):\n",
    "            new_solutions.append(alter(solution, **params))\n",
    "    return sorted(new_solutions + solutions, key=lambda x: cost(x, E, D, eta, P))[\n",
    "        :max_solutions\n",
    "    ]"
   ]
  },
  {
   "cell_type": "code",
   "execution_count": null,
   "id": "8da2b0ec-0363-4c74-a4a9-5722eb90fcbf",
   "metadata": {
    "id": "8da2b0ec-0363-4c74-a4a9-5722eb90fcbf"
   },
   "outputs": [],
   "source": [
    "params = {\"v_swaps\": 5, \"h_swaps\": 5, \"turn_off\": 2, \"turn_on\": 2}"
   ]
  },
  {
   "cell_type": "code",
   "execution_count": null,
   "id": "8a593803-5beb-4846-81e7-d4c11c5e00af",
   "metadata": {
    "id": "8a593803-5beb-4846-81e7-d4c11c5e00af"
   },
   "outputs": [],
   "source": [
    "start_solutions = get_random_solutions(NT, NM, 160, False, E, D, eta, P)"
   ]
  },
  {
   "cell_type": "code",
   "execution_count": null,
   "id": "7e5973f8-a226-4357-9945-da1bae0d79a9",
   "metadata": {
    "id": "7e5973f8-a226-4357-9945-da1bae0d79a9",
    "outputId": "62e008a5-18e6-4f98-b899-6d0d188a7130"
   },
   "outputs": [],
   "source": [
    "len(start_solutions)"
   ]
  },
  {
   "cell_type": "code",
   "execution_count": null,
   "id": "b5e38143-01c3-43b0-b900-71bf46d6928e",
   "metadata": {
    "id": "b5e38143-01c3-43b0-b900-71bf46d6928e"
   },
   "outputs": [],
   "source": [
    "solutions_iter_1 = bee_algorithm_iteration(start_solutions, 3, 3, 1, 120, params)"
   ]
  },
  {
   "cell_type": "code",
   "execution_count": null,
   "id": "e8e3c256-83f4-4322-838b-4727fda0377f",
   "metadata": {
    "id": "e8e3c256-83f4-4322-838b-4727fda0377f",
    "outputId": "81fa24fb-d6eb-44fb-fe23-9054317e7a19"
   },
   "outputs": [],
   "source": [
    "print(\"example costs before 1 iteration of bee algorithm:\")\n",
    "print([cost(i, E, D, eta, P) for i in start_solutions][:10])\n",
    "print(\"example costs after 1 iteration of bee algorithm:\")\n",
    "print([cost(i, E, D, eta, P) for i in solutions_iter_1][:10])"
   ]
  },
  {
   "cell_type": "code",
   "execution_count": null,
   "id": "29673ceb-caa0-4a59-abaf-f579b55c6e18",
   "metadata": {
    "id": "29673ceb-caa0-4a59-abaf-f579b55c6e18",
    "outputId": "7b70174e-ce45-432e-9dd4-cf438848a39c"
   },
   "outputs": [],
   "source": [
    "print(\n",
    "    f\"average cost before 1 iteration of bee algorithm:\\t{(sum(cost(i, E, D, eta, P) for i in start_solutions) / len(start_solutions)):.2f}\"\n",
    ")\n",
    "print(\n",
    "    f\"average cost after 1 iteration of bee algorithm:\\t{(sum(cost(i, E, D, eta, P) for i in solutions_iter_1) / len(solutions_iter_1)):.2f}\"\n",
    ")\n",
    "print(\n",
    "    f\"best cost before 1 iteration of bee algorithm:\\t{min(cost(i, E, D, eta, P) for i in start_solutions):.2f}\"\n",
    ")\n",
    "print(\n",
    "    f\"best cost after 1 iteration of bee algorithm:\\t{min(cost(i, E, D, eta, P) for i in solutions_iter_1):.2f}\"\n",
    ")"
   ]
  },
  {
   "cell_type": "code",
   "execution_count": null,
   "id": "401ab354-51fd-4dcf-af1a-bce760c02d2b",
   "metadata": {
    "id": "401ab354-51fd-4dcf-af1a-bce760c02d2b"
   },
   "outputs": [],
   "source": [
    "def bee_algorithm(starting_solutions: list, iterations: int, params: dict):\n",
    "    solutions = [i for i in starting_solutions]\n",
    "    params_c = {key: val for key, val in params.items()}\n",
    "    top_n = params_c.pop(\"top_n\")\n",
    "    top_attempts = params_c.pop(\"top_attempts\")\n",
    "    rest_attempts = params_c.pop(\"rest_attempts\")\n",
    "    max_solutions = params_c.pop(\"max_solutions\")\n",
    "    for i in range(iterations):\n",
    "        solutions = bee_algorithm_iteration(\n",
    "            solutions, top_n, top_attempts, rest_attempts, max_solutions, params_c\n",
    "        )\n",
    "    return solutions[0]"
   ]
  },
  {
   "cell_type": "code",
   "execution_count": null,
   "id": "1f2c0584-bbc7-48cd-88fd-6dabbb2c07b0",
   "metadata": {
    "id": "1f2c0584-bbc7-48cd-88fd-6dabbb2c07b0"
   },
   "outputs": [],
   "source": [
    "params = {\n",
    "    \"v_swaps\": 1,\n",
    "    \"h_swaps\": 1,\n",
    "    \"turn_off\": 3,\n",
    "    \"turn_on\": 3,\n",
    "    \"top_n\": 5,\n",
    "    \"top_attempts\": 11,\n",
    "    \"rest_attempts\": 6,\n",
    "    \"max_solutions\": 200,\n",
    "}"
   ]
  },
  {
   "cell_type": "code",
   "execution_count": null,
   "id": "4736b365-fc3a-4281-b979-d1349e8c08d5",
   "metadata": {
    "id": "4736b365-fc3a-4281-b979-d1349e8c08d5",
    "outputId": "82b3fdf9-3586-41aa-d3d4-b9149625ac61"
   },
   "outputs": [],
   "source": [
    "sol = bee_algorithm(start_solutions, 40, params)"
   ]
  },
  {
   "cell_type": "code",
   "execution_count": null,
   "id": "47470a7b-17d9-4264-956f-16346c178d7c",
   "metadata": {
    "id": "47470a7b-17d9-4264-956f-16346c178d7c",
    "outputId": "7f92ebb6-8f12-4aef-c1a5-698c9a8c4756"
   },
   "outputs": [],
   "source": [
    "cost(sol, E, D, eta, P)"
   ]
  },
  {
   "cell_type": "code",
   "execution_count": null,
   "id": "d447c490",
   "metadata": {},
   "outputs": [],
   "source": [
    "X, E, D, eta, P = get_data(10, 100)"
   ]
  },
  {
   "cell_type": "code",
   "execution_count": null,
   "id": "3e00913a-982f-4ad7-b9a4-971f9257e6c0",
   "metadata": {},
   "outputs": [],
   "source": [
    "test_X(X, E, D, eta, P)"
   ]
  },
  {
   "cell_type": "code",
   "execution_count": null,
   "id": "649b90ee-0196-4960-9756-e120cbb68bb8",
   "metadata": {},
   "outputs": [],
   "source": [
    "base_cost = np.multiply(E, np.sum(np.multiply(P, X), axis=1)) / np.sum(\n",
    "    np.multiply(eta, X), axis=1\n",
    ")"
   ]
  },
  {
   "cell_type": "code",
   "execution_count": null,
   "id": "bab4784c-efef-43ce-88c8-fbbeafe8a337",
   "metadata": {},
   "outputs": [],
   "source": [
    "problem = get_cheapest_problem(10, 50)\n",
    "cost(*problem)"
   ]
  },
  {
   "cell_type": "code",
   "execution_count": null,
   "id": "c3711f7c-d011-4a5b-a7eb-e8ec07599533",
   "metadata": {},
   "outputs": [],
   "source": [
    "test_X(*problem)"
   ]
  },
  {
   "cell_type": "code",
   "execution_count": null,
   "id": "7c7129d8-aa34-4d0e-abed-a3897f975703",
   "metadata": {},
   "outputs": [],
   "source": [
    "X, E, D, eta, P = problem"
   ]
  },
  {
   "cell_type": "code",
   "execution_count": null,
   "id": "9bf55c60-2586-4f09-be2c-0540c360f564",
   "metadata": {},
   "outputs": [],
   "source": [
    "sol = bee_algorithm([X], 40, params)"
   ]
  },
  {
   "cell_type": "code",
   "execution_count": null,
   "id": "f6fcb4a8-34eb-4d83-aa24-5e2370a7f389",
   "metadata": {},
   "outputs": [],
   "source": [
    "cost(sol, E, D, eta, P)"
   ]
  },
  {
   "cell_type": "code",
   "execution_count": null,
   "id": "8317db8b-50bd-4bd6-8fef-1ca065896757",
   "metadata": {},
   "outputs": [],
   "source": [
    "test_X(sol, E, D, eta, P)"
   ]
  },
  {
   "cell_type": "code",
   "execution_count": null,
   "id": "21a5c3f9",
   "metadata": {},
   "outputs": [],
   "source": [
    "def plot_bee_algorithm(starting_solutions: list, iterations: int, params: dict):\n",
    "    solutions = [i for i in starting_solutions]\n",
    "    params_c = {key: val for key, val in params.items()}\n",
    "    top_n = params_c.pop(\"top_n\")\n",
    "    top_attempts = params_c.pop(\"top_attempts\")\n",
    "    rest_attempts = params_c.pop(\"rest_attempts\")\n",
    "    max_solutions = params_c.pop(\"max_solutions\")\n",
    "    costs = []\n",
    "    for i in range(iterations):\n",
    "        solutions = bee_algorithm_iteration(\n",
    "            solutions, top_n, top_attempts, rest_attempts, max_solutions, params_c\n",
    "        )\n",
    "        costs.append(cost(solutions[0], E, D, eta, P))\n",
    "    plt.plot([i for i in range(iterations)], costs)\n",
    "    plt.show()"
   ]
  },
  {
   "cell_type": "code",
   "execution_count": null,
   "id": "7442073c",
   "metadata": {},
   "outputs": [],
   "source": [
    "plot_bee_algorithm(start_solutions, 40, params)"
   ]
  },
  {
   "cell_type": "code",
   "execution_count": null,
   "id": "512ea485",
   "metadata": {},
   "outputs": [],
   "source": [
    "work = np.array(\n",
    "    [\n",
    "        0.05649429,\n",
    "        0.53109867,\n",
    "        0.86764481,\n",
    "    ]\n",
    ")\n",
    "time = np.array(\n",
    "    [\n",
    "        0.53677527,\n",
    "        0.43160818,\n",
    "        0.9047183,\n",
    "    ]\n",
    ")\n",
    "P = np.array([0.42415955, 0.73918663, 0.3058235, 0.6060437, 0.64862661])\n",
    "eta = np.array(\n",
    "    [[0.55492947, 0.35726281, 0.75614558, 0.17878197, 0.95030017] for _ in range(3)]\n",
    ")"
   ]
  },
  {
   "cell_type": "code",
   "execution_count": null,
   "id": "671f8055",
   "metadata": {},
   "outputs": [],
   "source": [
    "start_solutions = get_random_solutions(3, 5, 160, False, work, time, eta, P)"
   ]
  },
  {
   "cell_type": "code",
   "execution_count": null,
   "id": "4484e246",
   "metadata": {},
   "outputs": [],
   "source": [
    "sol = bee_algorithm(start_solutions, 40, params)"
   ]
  },
  {
   "cell_type": "code",
   "execution_count": null,
   "id": "ba2cb823",
   "metadata": {},
   "outputs": [],
   "source": [
    "cost(sol, work, time, eta, P)"
   ]
  },
  {
   "cell_type": "code",
   "execution_count": null,
   "id": "bb54da58",
   "metadata": {},
   "outputs": [],
   "source": [
    "test_X(sol, work, time, eta, P)"
   ]
  },
  {
   "cell_type": "code",
   "execution_count": null,
   "id": "84eaaba8",
   "metadata": {},
   "outputs": [],
   "source": [
    "R = np.array([[0, 0, 0, 1, 0], [0, 1, 0, 0, 1], [1, 0, 1, 0, 0]])\n",
    "test_X(R, work, time, eta, P)"
   ]
  },
  {
   "cell_type": "code",
   "execution_count": null,
   "id": "475371d1",
   "metadata": {},
   "outputs": [],
   "source": [
    "cost(R, work, time, eta, P, base_only=True)"
   ]
  },
  {
   "cell_type": "code",
   "execution_count": null,
   "id": "38ead723",
   "metadata": {},
   "outputs": [],
   "source": []
  }
 ],
 "metadata": {
  "colab": {
   "provenance": []
  },
  "kernelspec": {
   "display_name": "Python 3.12",
   "language": "python",
   "name": "python3.12"
  },
  "language_info": {
   "codemirror_mode": {
    "name": "ipython",
    "version": 3
   },
   "file_extension": ".py",
   "mimetype": "text/x-python",
   "name": "python",
   "nbconvert_exporter": "python",
   "pygments_lexer": "ipython3",
   "version": "3.12.1"
  }
 },
 "nbformat": 4,
 "nbformat_minor": 5
}
